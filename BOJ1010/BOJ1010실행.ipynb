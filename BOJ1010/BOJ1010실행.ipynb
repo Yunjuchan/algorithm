{
 "cells": [
  {
   "cell_type": "code",
   "execution_count": 16,
   "metadata": {},
   "outputs": [
    {
     "name": "stdout",
     "output_type": "stream",
     "text": [
      "재귀 실행시간 : 729.702309846878 재귀 값 : 67863915\n",
      "동적계획 실행시간 : 0.0 동적계획 값 : 67863915\n"
     ]
    }
   ],
   "source": [
    "import time\n",
    "## N = 13, M = 29\n",
    "N, M = map(int, input().split())\n",
    "def bridge(n, m) :\n",
    "    arr= [[0 for i in range(N)] for j in range(M)]\n",
    "    total = 0\n",
    "    if n == 1:\n",
    "        return m\n",
    "    for i in range(1, m-n+2) :\n",
    "        total += bridge(n-1, m-i)\n",
    "    return total\n",
    "start1 = time.time()       \n",
    "result1 = bridge(N, M)\n",
    "end1 = time.time()\n",
    "print(f'재귀 실행시간 : {end1 - start1} 재귀 값 : {result1}')\n",
    "\n",
    "N, M = map(int, input().split())\n",
    "arr = [[0 for j in range(M)] for i in range(N)]\n",
    "start2 = time.time()\n",
    "for i in range(N) :\n",
    "    for j in range(M) :\n",
    "        if i == 0 :\n",
    "            arr[i][j] = j + 1\n",
    "        elif i <= j:\n",
    "            arr[i][j] = sum(arr[i-1][:j])\n",
    "result2 = arr[N-1][M-1]\n",
    "end2 = time.time()\n",
    "print(f'동적계획 실행시간 : {end2 - start2} 동적계획 값 : {result2}')\n",
    "\n",
    "\"\"\" \n",
    "재귀로 실행시 약 12분정도 소요되지만 동적계획법을 통해 \n",
    "계산된 값들을 저장해 사용하는 방식은 빠르게 출력되었다.\n",
    "\n",
    "동적계획법을 공부할 때 Bottom-up 방식과 Top-down 방식으로 \n",
    "문제를 해결할 수 있다는 사실을 알 수 있었고 그 중 Bottom-up방식으로 문제를 \n",
    "해결하였다. \n",
    "\n",
    "또한 동적계획법처럼 큰 문제를 작은 문제로 쪼개 하나씩 해결해나가는 방식으로\n",
    "분할정복 알고리즘이 있는데 두 알고리즘의 차이는 쪼갠 문제들의 독립성이다.\n",
    "쪼갠 문제들이 서로 간섭을 하지 않는다면 분할정복 알고리즘을 통해 \n",
    "문제를 각각 해결하고 마지막에 합쳐 원래 문제를 해결하고\n",
    "쪼갠 문제들의 결과값이 계속 사용이 된다면 하나의 변수에 저장하여 사용하는 방식으로\n",
    "문제를 해결해 최종적인 문제해결에 다가가면 된다.\n",
    "\n",
    "현재는 함수화 하지않고 내장함수 sum을 사용해 문제를 해결했지만 \n",
    "sum을 구현하는 방식을 생각해 함수화하여 저장할 예정이다.\n",
    "\n",
    "\"\"\"\n",
    "\n",
    "# T = int(input())\n",
    "# for t in range(T) :\n",
    "#     N, M = map(int, input().split())\n",
    "#     arr = [[0 for j in range(M)] for i in range(N)]\n",
    "\n",
    "#     for i in range(N) :\n",
    "#         for j in range(M) :\n",
    "#             if i == 0 :\n",
    "#                 arr[i][j] = j + 1\n",
    "#             elif i <= j:\n",
    "#                 arr[i][j] = sum(arr[i-1][:j])\n",
    "#     print(arr[N-1][M-1])\n",
    "\n",
    "\n",
    "\n"
   ]
  },
  {
   "cell_type": "code",
   "execution_count": null,
   "metadata": {},
   "outputs": [],
   "source": []
  }
 ],
 "metadata": {
  "kernelspec": {
   "display_name": "Python 3",
   "language": "python",
   "name": "python3"
  },
  "language_info": {
   "codemirror_mode": {
    "name": "ipython",
    "version": 3
   },
   "file_extension": ".py",
   "mimetype": "text/x-python",
   "name": "python",
   "nbconvert_exporter": "python",
   "pygments_lexer": "ipython3",
   "version": "3.9.13"
  },
  "orig_nbformat": 4
 },
 "nbformat": 4,
 "nbformat_minor": 2
}
